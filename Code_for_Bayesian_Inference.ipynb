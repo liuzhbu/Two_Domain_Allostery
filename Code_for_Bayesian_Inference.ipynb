{
 "cells": [
  {
   "cell_type": "markdown",
   "id": "153058bd",
   "metadata": {},
   "source": [
    "### Code for performing Bayesian Inference\n",
    "### The induction data of G102D-Y42M-I57N is used here for postsample inference as an example"
   ]
  },
  {
   "cell_type": "code",
   "execution_count": 2,
   "id": "0f4e1673",
   "metadata": {},
   "outputs": [],
   "source": [
    "import numpy as np\n",
    "import pandas\n",
    "import matplotlib.pyplot as plt\n",
    "from scipy.stats import halfnorm\n",
    "from scipy.stats import sem\n",
    "# from scipy.statistics import stdev\n",
    "import os\n",
    "import seaborn as sns\n",
    "import sys\n",
    "sns.set()\n",
    "\n",
    "C_ATC = [0 ,10 ,20,40 ,60 ,80 ,100 ,150 ,250 ,500 ,750,1000]"
   ]
  },
  {
   "cell_type": "code",
   "execution_count": 4,
   "id": "3ce1a78d",
   "metadata": {},
   "outputs": [],
   "source": [
    "def fold_change(lkns, el, gama,c, K=1):\n",
    "    \n",
    "    pref= 1/lkns -1\n",
    "    numeratorfc = 1+np.exp(-el-gama)*((c/K)**2)\n",
    "    denomenatorfc = 1+np.exp(-el)*((c/K)**2)\n",
    "    \n",
    "    FC = 1/(1+pref*numeratorfc/denomenatorfc)\n",
    "    return FC"
   ]
  },
  {
   "cell_type": "code",
   "execution_count": 5,
   "id": "123505dd",
   "metadata": {},
   "outputs": [],
   "source": [
    "el_avg, el_std = 5.5,2.5\n",
    "gama_avg, gama_std = 5, 2.5\n",
    "sigma_std=0.05"
   ]
  },
  {
   "cell_type": "code",
   "execution_count": 9,
   "id": "e24f45ee",
   "metadata": {},
   "outputs": [
    {
     "name": "stdout",
     "output_type": "stream",
     "text": [
      "23\n"
     ]
    }
   ],
   "source": [
    "FCs_read = []\n",
    "with open('FCdata.txt','r') as g: fclines=g.readlines()[0].split('$')[1:-1]\n",
    "for each in fclines:\n",
    "    tempfc=[]\n",
    "    for eac in each[2:-2].split('], ['):\n",
    "        tpfc=[float(ea) for ea in eac.split(',')]\n",
    "        tempfc.append(tpfc)\n",
    "    FCs_read.append(tempfc)\n",
    "print(len(FCs_read))"
   ]
  },
  {
   "cell_type": "code",
   "execution_count": 12,
   "id": "0f4a386c",
   "metadata": {},
   "outputs": [
    {
     "name": "stdout",
     "output_type": "stream",
     "text": [
      "(23, 2)\n"
     ]
    }
   ],
   "source": [
    "# experimental leakiness of each mutant and the corresponding sem\n",
    "with open('leak_info.txt','r') as g:\n",
    "    alllines=g.readlines()[0][2:-2]\n",
    "    \n",
    "temp_leakraw, Leakns_read =alllines.split('], ['), []\n",
    "for each in temp_leakraw:\n",
    "    tplkr, templ =each.split(','), []\n",
    "    for eac in tplkr: templ.append(float(eac))\n",
    "    Leakns_read.append(templ)\n",
    "print(np.shape(Leakns_read))"
   ]
  },
  {
   "cell_type": "code",
   "execution_count": 18,
   "id": "590b3f39",
   "metadata": {},
   "outputs": [],
   "source": [
    "leakWT=Leakns_read[-1][0]"
   ]
  },
  {
   "cell_type": "code",
   "execution_count": 10,
   "id": "2c7a37f7",
   "metadata": {},
   "outputs": [],
   "source": [
    "def transformto_12_4(allset,rep=4):\n",
    "    resulth=[]\n",
    "    for i in range(12):\n",
    "        temph=[]\n",
    "        for j in range(rep):\n",
    "            if allset[j][i] == 0.0: pass\n",
    "            else:\n",
    "                temph.append(allset[j][i])\n",
    "        resulth.append(temph)\n",
    "    return resulth "
   ]
  },
  {
   "cell_type": "code",
   "execution_count": 11,
   "id": "4bd6f29a",
   "metadata": {},
   "outputs": [
    {
     "name": "stdout",
     "output_type": "stream",
     "text": [
      "(12, 4)\n"
     ]
    }
   ],
   "source": [
    "G102D_Y42M_I57N_data = transformto_12_4(FCs_read[13])\n",
    "print(np.shape(G102D_Y42M_I57N_data))"
   ]
  },
  {
   "cell_type": "code",
   "execution_count": 6,
   "id": "081d5023",
   "metadata": {},
   "outputs": [],
   "source": [
    "def posterior_prob(lk,elp,gamap,sigma,dataset):\n",
    "    prob=1/1e200\n",
    "    for i in range(1,len(dataset)):\n",
    "        u = fold_change(lk,elp,gamap,C_ATC[i])\n",
    "        for j in range(len(dataset[i])):\n",
    "            p=np.exp(-(dataset[i][j]-u)**2/2/(sigma**2))/sigma\n",
    "            prob*=p\n",
    "    \n",
    "    return prob"
   ]
  },
  {
   "cell_type": "code",
   "execution_count": 7,
   "id": "00998708",
   "metadata": {},
   "outputs": [],
   "source": [
    "def generate_MC_para():\n",
    "    eli=np.random.normal(el_avg,el_std)\n",
    "    gamai=np.random.normal(gama_avg,gama_std)\n",
    "    sigmai=halfnorm.rvs(loc=0,scale=sigma_std)\n",
    "    return [eli,gamai,sigmai]"
   ]
  },
  {
   "cell_type": "code",
   "execution_count": 31,
   "id": "14025e2d",
   "metadata": {},
   "outputs": [],
   "source": [
    "def MC_posterior_sampling(lkn, dataset, move, gamafix=False):\n",
    "    infered_para=[]\n",
    "    infered_paras_postprob=[]\n",
    "    \n",
    "    parai=generate_MC_para()\n",
    "    while posterior_prob(lkn, parai[0],parai[1],parai[2],dataset)==0:\n",
    "        parai=generate_MC_para()\n",
    "        \n",
    "    if gamafix: parai[1]=gamafix ####\n",
    "        \n",
    "    infered_para.append(parai)\n",
    "    infered_paras_postprob.append(posterior_prob(lkn, parai[0],parai[1],parai[2],dataset))\n",
    "    \n",
    "    for i in range(move):\n",
    "        if i%100000==0: print(i, flush=True)\n",
    "        para_new = infered_para[-1].copy()\n",
    "        \n",
    "        # change el\n",
    "        para_new[0] = np.random.normal(el_avg,el_std)\n",
    "        probnew = posterior_prob(lkn, para_new[0],para_new[1],para_new[2],dataset)\n",
    "        if infered_paras_postprob[-1]<=probnew:\n",
    "            infered_para.append(para_new)\n",
    "            infered_paras_postprob.append(probnew)\n",
    "        else:\n",
    "            rand=np.random.uniform(0,1)\n",
    "            if rand<= probnew/infered_paras_postprob[-1]:\n",
    "                infered_para.append(para_new)\n",
    "                infered_paras_postprob.append(probnew)\n",
    "            else:\n",
    "                infered_para.append(infered_para[-1])\n",
    "                infered_paras_postprob.append(infered_paras_postprob[-1])\n",
    "                \n",
    "        # change gama\n",
    "        if not gamafix:\n",
    "        \n",
    "            para_new = infered_para[-1].copy()\n",
    "\n",
    "            para_new[1] = np.random.normal(gama_avg,gama_std)\n",
    "            probnew = posterior_prob(lkn, para_new[0],para_new[1],para_new[2],dataset)\n",
    "            if infered_paras_postprob[-1]<=probnew:\n",
    "                infered_para.append(para_new)\n",
    "                infered_paras_postprob.append(probnew)\n",
    "            else:\n",
    "                rand=np.random.uniform(0,1)\n",
    "                if rand<= probnew/infered_paras_postprob[-1]:\n",
    "                    infered_para.append(para_new)\n",
    "                    infered_paras_postprob.append(probnew)\n",
    "                else:\n",
    "                    infered_para.append(infered_para[-1])\n",
    "                    infered_paras_postprob.append(infered_paras_postprob[-1])\n",
    "                \n",
    "        # change sigma\n",
    "        para_new = infered_para[-1].copy()\n",
    "        \n",
    "        para_new[2] = halfnorm.rvs(loc=0,scale=sigma_std)\n",
    "        probnew = posterior_prob(lkn, para_new[0],para_new[1],para_new[2],dataset)\n",
    "        if infered_paras_postprob[-1]<=probnew:\n",
    "            infered_para.append(para_new)\n",
    "            infered_paras_postprob.append(probnew)\n",
    "        else:\n",
    "            rand=np.random.uniform(0,1)\n",
    "            if rand<= probnew/infered_paras_postprob[-1]:\n",
    "                infered_para.append(para_new)\n",
    "                infered_paras_postprob.append(probnew)\n",
    "            else:\n",
    "                infered_para.append(infered_para[-1])\n",
    "                infered_paras_postprob.append(infered_paras_postprob[-1])\n",
    "                \n",
    "    return [infered_para,infered_paras_postprob]"
   ]
  },
  {
   "cell_type": "code",
   "execution_count": 32,
   "id": "d1df539c",
   "metadata": {},
   "outputs": [
    {
     "name": "stdout",
     "output_type": "stream",
     "text": [
      "0.04230297709522358\n"
     ]
    }
   ],
   "source": [
    "print(Leakns_read[13][0])"
   ]
  },
  {
   "cell_type": "code",
   "execution_count": 33,
   "id": "b9a4914c",
   "metadata": {},
   "outputs": [
    {
     "name": "stdout",
     "output_type": "stream",
     "text": [
      "0\n",
      "100000\n",
      "200000\n",
      "300000\n",
      "400000\n",
      "500000\n",
      "600000\n",
      "700000\n",
      "800000\n",
      "900000\n"
     ]
    }
   ],
   "source": [
    "mcstep=1000000\n",
    "postsample_G102D_Y42M_I57N=[]\n",
    "postsample_G102D_Y42M_I57N.append(MC_posterior_sampling(0.0423, G102D_Y42M_I57N_data,mcstep))"
   ]
  },
  {
   "cell_type": "code",
   "execution_count": 34,
   "id": "bf8ed2b0",
   "metadata": {},
   "outputs": [
    {
     "name": "stdout",
     "output_type": "stream",
     "text": [
      "(3000001, 3)\n"
     ]
    }
   ],
   "source": [
    "print(np.shape(postsample_G102D_Y42M_I57N[0][0]))"
   ]
  },
  {
   "cell_type": "code",
   "execution_count": 35,
   "id": "16975161",
   "metadata": {},
   "outputs": [],
   "source": [
    "def get_infrd_para(postsample, step=3000):\n",
    "    infrdpara=[]\n",
    "    for each in postsample[0][0][::step]: infrdpara.append(each)\n",
    "    \n",
    "    return infrdpara[:]"
   ]
  },
  {
   "cell_type": "code",
   "execution_count": 36,
   "id": "ad547218",
   "metadata": {},
   "outputs": [],
   "source": [
    "def check_parainfer(lkinfo, paraminfered,percentile):\n",
    "    perc=1-percentile\n",
    "    \n",
    "    ed= -np.log(1/lkinfo[0]-1) + np.log(1/leakWT-1)\n",
    "    edl=-np.log(1/(lkinfo[0]-lkinfo[1])-1) + np.log(1/leakWT-1)\n",
    "    edh=-np.log(1/(lkinfo[0]+lkinfo[1])-1) + np.log(1/leakWT-1)\n",
    "        \n",
    "    parainfered_el, parainfered_gama, parainfered_sigma = [],[],[]\n",
    "\n",
    "    for i in range(len(paraminfered)):\n",
    "        parainfered_el.append(paraminfered[i][0])\n",
    "        parainfered_gama.append(paraminfered[i][1])\n",
    "        parainfered_sigma.append(paraminfered[i][2])\n",
    "\n",
    "    parainfered_el=np.sort(parainfered_el)\n",
    "    parainfered_gama=np.sort(parainfered_gama)\n",
    "    parainfered_sigma=np.sort(parainfered_sigma)\n",
    "    \n",
    "    median2 = [ [ed,edl,edh],\n",
    "               [np.median(parainfered_el),parainfered_el[round(len(paraminfered)*perc/2)],parainfered_el[-round(len(paraminfered)*perc/2)]],\n",
    "               [np.median(parainfered_gama),parainfered_gama[round(len(paraminfered)*perc/2)],parainfered_gama[-round(len(paraminfered)*perc/2)]],\n",
    "             [np.median(parainfered_sigma),parainfered_sigma[round(len(paraminfered)*perc/2)],parainfered_sigma[-round(len(paraminfered)*perc/2)]]]\n",
    "    return median2"
   ]
  },
  {
   "cell_type": "code",
   "execution_count": 37,
   "id": "ebcad6af",
   "metadata": {},
   "outputs": [
    {
     "data": {
      "text/plain": [
       "[[1.6272249724030479, 1.6145204832245068, 1.639783409862794],\n",
       " [8.20603435455774, 8.08428677247967, 8.324977880974918],\n",
       " [2.8274569134445464, 2.7707660398212393, 2.8823038653828084],\n",
       " [0.018115072632262776, 0.014642816422286884, 0.02309121197177842]]"
      ]
     },
     "execution_count": 37,
     "metadata": {},
     "output_type": "execute_result"
    }
   ],
   "source": [
    "check_parainfer(Leakns_read[13], get_infrd_para(postsample_G102D_Y42M_I57N), 0.95)"
   ]
  },
  {
   "cell_type": "code",
   "execution_count": null,
   "id": "29aab1f9",
   "metadata": {},
   "outputs": [],
   "source": []
  }
 ],
 "metadata": {
  "kernelspec": {
   "display_name": "Python 3 (ipykernel)",
   "language": "python",
   "name": "python3"
  },
  "language_info": {
   "codemirror_mode": {
    "name": "ipython",
    "version": 3
   },
   "file_extension": ".py",
   "mimetype": "text/x-python",
   "name": "python",
   "nbconvert_exporter": "python",
   "pygments_lexer": "ipython3",
   "version": "3.9.12"
  }
 },
 "nbformat": 4,
 "nbformat_minor": 5
}
